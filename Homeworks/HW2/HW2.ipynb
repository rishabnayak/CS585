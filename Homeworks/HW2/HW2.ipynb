{
 "cells": [
  {
   "cell_type": "code",
   "execution_count": 3,
   "metadata": {},
   "outputs": [
    {
     "name": "stdout",
     "output_type": "stream",
     "text": [
      "esc key is pressed by user\n"
     ]
    },
    {
     "data": {
      "text/plain": [
       "-1"
      ]
     },
     "execution_count": 3,
     "metadata": {},
     "output_type": "execute_result"
    }
   ],
   "source": [
    "# Team: Rishab Nayak and Jason Li\n",
    "# Report Link: http://cs-people.bu.edu/rishab/\n",
    "import cv2\n",
    "import sys\n",
    "import numpy as np\n",
    "\n",
    "cap = cv2.VideoCapture(0)\n",
    "\n",
    "if not cap.isOpened():\n",
    "    print(\"Cannot open the video cam\")\n",
    "    sys.exit()\n",
    "\n",
    "ret, frame0 = cap.read()\n",
    "if not ret:\n",
    "    print(\"Cannot read a frame from video stream\")\n",
    "\n",
    "while(1):\n",
    "    ret, frame = cap.read()\n",
    "\n",
    "    if not ret:\n",
    "        print(\"Cannot read a frame from video stream\")\n",
    "        break\n",
    "    \n",
    "    hsv_min = np.array([0, 60, 30], dtype = \"uint8\")\n",
    "    hsv_max = np.array([30, 255, 255], dtype = \"uint8\")\n",
    "    hsv_src = cv2.cvtColor(frame, cv2.COLOR_BGR2HSV)\n",
    "    hsv_skin_region = cv2.inRange(hsv_src, hsv_min, hsv_max)\n",
    "    \n",
    "    blurred = cv2.blur(hsv_skin_region,(10, 10))\n",
    "    _, thresholded = cv2.threshold(blurred, 200, 255, cv2.THRESH_BINARY)\n",
    "    \n",
    "    contours, hierarchy = cv2.findContours(thresholded, cv2.RETR_EXTERNAL, cv2.CHAIN_APPROX_SIMPLE)\n",
    "    contour_output = np.zeros(np.shape(frame), dtype='uint8')\n",
    "    \n",
    "    if len(contours) != 0:\n",
    "        contour = max(contours, key=lambda x: cv2.contourArea(x))\n",
    "        boundrec = cv2.boundingRect(contour)\n",
    "        hull = cv2.convexHull(contour)\n",
    "        hullnopoints = cv2.convexHull(contour, returnPoints=False)\n",
    "        defects = cv2.convexityDefects(contour, hullnopoints)\n",
    "        \n",
    "        cv2.drawContours(contour_output, contour, -1, (0,0,255), 2)\n",
    "        cv2.drawContours(contour_output, [hull], -1, (0, 255, 255), 2)\n",
    "        cv2.rectangle(contour_output, boundrec, (0,255,0))\n",
    "        \n",
    "        if defects is not None:\n",
    "            count = 0\n",
    "            for i in range(defects.shape[0]):\n",
    "                s, e, f, d = defects[i][0]\n",
    "                start = tuple(contour[s][0])\n",
    "                end = tuple(contour[e][0])\n",
    "                far = tuple(contour[f][0])\n",
    "                a = np.sqrt(np.square((end[0] - start[0])) + np.square((end[1] - start[1])))\n",
    "                b = np.sqrt(np.square((far[0] - start[0])) + np.square((far[1] - start[1])))\n",
    "                c = np.sqrt(np.square((end[0] - far[0])) + np.square((end[1] - far[1])))\n",
    "                angle = np.arccos((b ** 2 + c ** 2 - a ** 2) / (2 * b * c))\n",
    "                if angle <= np.pi / 2:\n",
    "                    count += 1\n",
    "                    cv2.circle(contour_output, far, 4, [0, 0, 255], -1)\n",
    "            if count > 0:\n",
    "                count = count+1\n",
    "            cv2.putText(contour_output, str(count), (0, 50), cv2.FONT_HERSHEY_PLAIN, 1, (255, 0, 0), 2, cv2.LINE_AA)\n",
    "    \n",
    "    cv2.imshow('Output', contour_output)\n",
    "\n",
    "    if cv2.waitKey(30) == 27:\n",
    "        print(\"esc key is pressed by user\")\n",
    "        break\n",
    "\n",
    "cap.release()\n",
    "cv2.destroyAllWindows()\n",
    "cv2.waitKey(1)"
   ]
  },
  {
   "cell_type": "code",
   "execution_count": null,
   "metadata": {},
   "outputs": [],
   "source": []
  }
 ],
 "metadata": {
  "kernelspec": {
   "display_name": "Python 3",
   "language": "python",
   "name": "python3"
  },
  "language_info": {
   "codemirror_mode": {
    "name": "ipython",
    "version": 3
   },
   "file_extension": ".py",
   "mimetype": "text/x-python",
   "name": "python",
   "nbconvert_exporter": "python",
   "pygments_lexer": "ipython3",
   "version": "3.9.1"
  }
 },
 "nbformat": 4,
 "nbformat_minor": 4
}
