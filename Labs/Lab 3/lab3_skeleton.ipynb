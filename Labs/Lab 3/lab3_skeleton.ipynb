{
 "cells": [
  {
   "cell_type": "code",
   "execution_count": 1,
   "metadata": {},
   "outputs": [],
   "source": [
    "'''\n",
    "CS585_Lab3\n",
    "CS585 Image and Video Computing\n",
    "Lab 3\n",
    "--------------\n",
    "This program introduces the following concepts:\n",
    "\ta) Reading a stream of images from a webcamera, and displaying the video\n",
    "\tb) Skin color detection\n",
    "\tc) Background differencing\n",
    "\td) Visualizing motion history\n",
    "--------------\n",
    "'''\n",
    "import cv2\n",
    "import sys\n",
    "import numpy as np"
   ]
  },
  {
   "cell_type": "code",
   "execution_count": 2,
   "metadata": {},
   "outputs": [
    {
     "name": "stdout",
     "output_type": "stream",
     "text": [
      "[[0.65679911 0.28568062 0.5184591  0.96625137 0.96869598]\n",
      " [0.0025177  0.35795021 0.14399882 0.57121736 0.98288816]\n",
      " [0.98832649 0.38583503 0.7027842  0.23269736 0.7867104 ]\n",
      " [0.73782223 0.76786485 0.41981379 0.53527038 0.51659528]\n",
      " [0.96966022 0.18796745 0.62474262 0.45575449 0.96113966]]\n"
     ]
    }
   ],
   "source": [
    "a = np.random.random((5,5))\n",
    "print(a)"
   ]
  },
  {
   "cell_type": "code",
   "execution_count": 3,
   "metadata": {},
   "outputs": [
    {
     "name": "stdout",
     "output_type": "stream",
     "text": [
      "False\n"
     ]
    }
   ],
   "source": [
    "mask = a > 0.5\n",
    "print(mask.all() or mask.all())"
   ]
  },
  {
   "cell_type": "code",
   "execution_count": 23,
   "metadata": {},
   "outputs": [],
   "source": [
    "def my_skin_detect(src):\n",
    "    '''\n",
    "    Function that detects whether a pixel belongs to the skin based on RGB values\n",
    "    Args: \n",
    "        src The source color image\n",
    "    Returns: \n",
    "        dst The destination grayscale image where skin pixels are colored white and the rest are colored black\n",
    "    Surveys of skin color modeling and detection techniques:\n",
    "    Vezhnevets, Vladimir, Vassili Sazonov, and Alla Andreeva. \"A survey on pixel-based skin color detection techniques.\" Proc. Graphicon. Vol. 3. 2003.\n",
    "    Kakumanu, Praveen, Sokratis Makrogiannis, and Nikolaos Bourbakis. \"A survey of skin-color modeling and detection methods.\" Pattern recognition 40.3 (2007): 1106-1122.\n",
    "    '''\n",
    "    hsv_min = np.array([0, 60, 50], dtype = \"uint8\")\n",
    "    hsv_max = np.array([30, 255, 255], dtype = \"uint8\")\n",
    "    hsv_src = cv2.cvtColor(src, cv2.COLOR_BGR2HSV)\n",
    "    hsv_skin_region = cv2.inRange(hsv_src, hsv_min, hsv_max)\n",
    "    \n",
    "    dst = cv2.bitwise_and(src, src, mask = hsv_skin_region)\n",
    "    \n",
    "    return cv2.cvtColor(dst, cv2.COLOR_BGR2GRAY)\n",
    "\n",
    "\n",
    "def my_frame_differencing(prev, curr):\n",
    "    '''\n",
    "    Function that does frame differencing between the current frame and the previous frame\n",
    "    Args:\n",
    "        src The current color image\n",
    "        prev The previous color image\n",
    "    Returns:\n",
    "        dst The destination grayscale image where pixels are colored white if the corresponding pixel intensities in the current\n",
    "    and previous image are not the same\n",
    "    '''\n",
    "    \n",
    "    dst = cv2.absdiff(prev, curr)\n",
    "    gs = cv2.cvtColor(dst, cv2.COLOR_BGR2GRAY)\n",
    "    return (gs > 50).astype(np.uint8) * 255\n",
    "\n",
    "def my_motion_energy(mh):\n",
    "    '''\n",
    "    Function that accumulates the frame differences for a certain number of pairs of frames\n",
    "    Args:\n",
    "        mh Vector of frame difference images\n",
    "    Returns:\n",
    "        dst The destination grayscale image to store the accumulation of the frame difference images\n",
    "    '''\n",
    "    return cv2.add(mh[0], mh[1])"
   ]
  },
  {
   "cell_type": "code",
   "execution_count": null,
   "metadata": {},
   "outputs": [],
   "source": [
    "# ----------------\n",
    "# a) Reading a stream of images from a webcamera, and displaying the video\n",
    "# ----------------\n",
    "# For more information on reading and writing video: http://docs.opencv.org/modules/highgui/doc/reading_and_writing_images_and_video.html\n",
    "# open the video camera no. 0\n",
    "cap = cv2.VideoCapture(0)\n",
    "\n",
    "# if not successful, exit program\n",
    "if not cap.isOpened():\n",
    "    print(\"Cannot open the video cam\")\n",
    "    sys.exit()\n",
    "\n",
    "# create a window called \"MyVideo0\"\n",
    "cv2.namedWindow(\"Webcam\", cv2.WINDOW_AUTOSIZE)\n",
    "\n",
    "# read a new frame from video\n",
    "ret, frame0 = cap.read()\n",
    "if not ret:\n",
    "    print(\"Cannot read a frame from video stream\")\n",
    "\n",
    "# show the frame in \"Webcam\" window\n",
    "cv2.imshow(\"Webcam\", frame0)\n",
    "\n",
    "# create windows\n",
    "cv2.namedWindow(\"MyVideo\", cv2.WINDOW_AUTOSIZE)\n",
    "cv2.namedWindow(\"FrameDiff\", cv2.WINDOW_AUTOSIZE)\n",
    "cv2.namedWindow(\"MotionEnergy\", cv2.WINDOW_AUTOSIZE)\n",
    "\n",
    "my_motion_history = []\n",
    "fMH1 = np.zeros((np.shape(frame0)[0], np.shape(frame0)[1]), dtype=np.uint8)\n",
    "fMH2 = np.zeros((np.shape(frame0)[0], np.shape(frame0)[1]), dtype=np.uint8)\n",
    "fMH3 = np.zeros((np.shape(frame0)[0], np.shape(frame0)[1]), dtype=np.uint8)\n",
    "my_motion_history.append(fMH1)\n",
    "my_motion_history.append(fMH2)\n",
    "my_motion_history.append(fMH3)\n",
    "\n",
    "while(1):\n",
    "    # read a new frame from video\n",
    "    ret, frame = cap.read()\n",
    "    # if not successful, break loop\n",
    "    if not ret:\n",
    "        print(\"Cannot read a frame from video stream\")\n",
    "        break\n",
    "\n",
    "    cv2.imshow(\"Webcam\", frame)\n",
    "\n",
    "    # ----------------\n",
    "    # b) Skin color detection\n",
    "    # ----------------\n",
    "    frame_dst = my_skin_detect(frame)\n",
    "    cv2.imshow(\"Skin\", frame_dst)\n",
    "\n",
    "    # ----------------\n",
    "    # c) Background differencing\n",
    "    # ----------------\n",
    "\n",
    "    # call my_frame_differencing function\n",
    "    frame_dst = my_frame_differencing(frame0, frame)\n",
    "    cv2.imshow(\"FrameDiff\", frame_dst)\n",
    "\n",
    "    # ----------------\n",
    "    #  d) Visualizing motion history\n",
    "    # ----------------\n",
    "    \n",
    "    my_motion_history.pop(0)\n",
    "    my_motion_history.append(frame_dst)\n",
    "\n",
    "    # call my_motion_energy function\n",
    "    myMH = my_motion_energy(my_motion_history)\n",
    "    cv2.imshow(\"MotionEnergy\", myMH)\n",
    "    frame0 = frame\n",
    "\n",
    "    # wait for 'esc' key press for 30ms. If 'esc' key is pressed, break loop\n",
    "    if cv2.waitKey(30) == 27:\n",
    "        print(\"esc key is pressed by user\")\n",
    "        break\n",
    "\n",
    "# When everything done, release the capture\n",
    "cap.release()\n",
    "cv2.destroyAllWindows()\n",
    "cv2.waitKey(1)"
   ]
  },
  {
   "cell_type": "code",
   "execution_count": null,
   "metadata": {},
   "outputs": [],
   "source": []
  }
 ],
 "metadata": {
  "kernelspec": {
   "display_name": "Python 3",
   "language": "python",
   "name": "python3"
  },
  "language_info": {
   "codemirror_mode": {
    "name": "ipython",
    "version": 3
   },
   "file_extension": ".py",
   "mimetype": "text/x-python",
   "name": "python",
   "nbconvert_exporter": "python",
   "pygments_lexer": "ipython3",
   "version": "3.9.1"
  }
 },
 "nbformat": 4,
 "nbformat_minor": 4
}
