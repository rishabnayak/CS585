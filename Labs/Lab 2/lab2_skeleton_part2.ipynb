{
 "cells": [
  {
   "cell_type": "code",
   "execution_count": 22,
   "metadata": {},
   "outputs": [],
   "source": [
    "'''\n",
    "CS585 Image and Video Computing\n",
    "Lab 2 Part II\n",
    "--------------\n",
    "This program introduces the following concepts:\n",
    "a) Understanding and applying basic morphological operations on images\n",
    "b) Finding and labeling blobs in a binary image\n",
    "--------------\n",
    "'''\n",
    "\n",
    "import cv2\n",
    "import sys\n",
    "import numpy as np"
   ]
  },
  {
   "cell_type": "code",
   "execution_count": 23,
   "metadata": {},
   "outputs": [],
   "source": [
    "# Function that detects blobs from a binary image\n",
    "# @param binaryImg The source binary image (binary image contains pixels labeled 0 or 1 (not 255))\n",
    "# @param blobs Vector to store all blobs, each of which is stored as a vector of 2D x-y coordinates\n",
    "def find_binary_large_objects(binary):\n",
    "   \t# labelled image of type CV_32SC1\n",
    "    label_image = np.int32(binary)\n",
    "\n",
    "\t# label count starts at 2\n",
    "    label_count = 2\n",
    "\n",
    "    #blobs will be a list of lists\n",
    "    #where each sublist is the pixels of each unique object in the image\n",
    "    blobs = []\n",
    "\t# print(\"The number of blobs in the image is: \", label_count-2)\n",
    "    \n",
    "    #TO DO: Iterate over each pixel of image, skipping over background pixels\n",
    "    \n",
    "        #TO DO: run flood fill starting on a foreground pixel, painting it \"label_count\" in color\n",
    "        # documentation: http://docs.opencv.org/modules/imgproc/doc/miscellaneous_transformations.html#floodfill\n",
    "        # examples (hint: look at 8): https://www.programcreek.com/python/example/89425/cv2.floodFill\n",
    "        \n",
    "        #TO DO: determine the pixels associated with the object filled and store them in a list\n",
    "        #Then, store that list into the list of lists, blobs\n",
    "        \n",
    "        #TO DO: increment label_count\n",
    "    \n",
    "    print(\"The number of blobs in the image is: \", label_count-2)\n",
    "    return blobs\n",
    "    \n",
    "    "
   ]
  },
  {
   "cell_type": "code",
   "execution_count": 24,
   "metadata": {},
   "outputs": [
    {
     "name": "stdout",
     "output_type": "stream",
     "text": [
      "The number of blobs in the image is:  0\n"
     ]
    }
   ],
   "source": [
    "# read image as grayscale\n",
    "img = cv2.imread(\"blob.png\", cv2.IMREAD_GRAYSCALE)\n",
    "if img is None:\n",
    "    print(\"File not found\")\n",
    "    sys.exit()\n",
    "\n",
    "# create windows\n",
    "cv2.namedWindow(\"Original\")\n",
    "cv2.namedWindow(\"binary\")\n",
    "cv2.namedWindow(\"labelled\")\n",
    "\n",
    "cv2.imshow(\"Original\", img)\n",
    "\n",
    "#1. perform morphological operations to remove small objects (noise) and fill black spots inside objects\n",
    "# Documentation on erosion and dilation: \n",
    "#https://opencv-python-tutroals.readthedocs.io/en/latest/py_tutorials/py_imgproc/py_morphological_ops/py_morphological_ops.html\n",
    "# use an erosion and dilation kernel/filter of size 4\n",
    "\n",
    "\n",
    "# convert thresholded image to binary image\n",
    "# this sets all of our background pixels to 0, and our foreground pixles to 1\n",
    "_, binary = cv2.threshold(img, 0.0, 1.0, cv2.THRESH_BINARY)\n",
    "\n",
    "# 2. call function that detects blobs\n",
    "blobs = find_binary_large_objects(binary)\n",
    "\n",
    "# 3. : Create all black colored image as canvass\n",
    "\n",
    "# 4. : color the blobs a unique color on the canvass\n",
    "\n",
    "# 5. : show the erroded/dilated image, as well as the labelled image in two separate windows\n",
    "\n",
    "# Wait until keypress\n",
    "cv2.waitKey(0)\n",
    "cv2.destroyAllWindows()"
   ]
  },
  {
   "cell_type": "code",
   "execution_count": null,
   "metadata": {},
   "outputs": [],
   "source": []
  }
 ],
 "metadata": {
  "kernelspec": {
   "display_name": "Python 3",
   "language": "python",
   "name": "python3"
  },
  "language_info": {
   "codemirror_mode": {
    "name": "ipython",
    "version": 3
   },
   "file_extension": ".py",
   "mimetype": "text/x-python",
   "name": "python",
   "nbconvert_exporter": "python",
   "pygments_lexer": "ipython3",
   "version": "3.9.0"
  }
 },
 "nbformat": 4,
 "nbformat_minor": 4
}
