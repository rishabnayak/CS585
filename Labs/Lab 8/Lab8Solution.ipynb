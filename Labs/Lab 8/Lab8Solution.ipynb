{
 "cells": [
  {
   "cell_type": "code",
   "execution_count": 2,
   "metadata": {},
   "outputs": [],
   "source": [
    "'''\n",
    "CS585 Image and Video Computing Fall 2018\n",
    "Lab 7\n",
    "--------------\n",
    "This program introduces the following concepts:\n",
    "a) Applying an alpha beta filter in a one-dimensional state space\n",
    "b) Applying a Kalman filter in a one-dimensional state space\n",
    "--------------\n",
    "'''\n",
    "import numpy as np\n",
    "import cv2"
   ]
  },
  {
   "cell_type": "code",
   "execution_count": 47,
   "metadata": {},
   "outputs": [],
   "source": [
    "#global variables\n",
    "x_init = 1\n",
    "z = [0.93, 1.44, 2.34, 4.01, 5.66, 6.01, 6.22, 7.31, 8.01, 8.22]\n",
    "\n",
    "#Alpha beta filter variables\n",
    "delta_T = 1.0\n",
    "v_init = 0\n",
    "alpha = 0.85\n",
    "beta = 0.005\n",
    "\n",
    "#Kalman filter variables\n",
    "A = 1\n",
    "Q = 0.1\n",
    "H = 1\n",
    "R = 0.1\n",
    "P_init = 1"
   ]
  },
  {
   "cell_type": "code",
   "execution_count": 48,
   "metadata": {},
   "outputs": [],
   "source": [
    "def AlphaBetaFilter():\n",
    "    arr = np.zeros((10))\n",
    "    xk_1 = x_init\n",
    "    vk_1 = v_init\n",
    "    \n",
    "    for i in range(arr.shape[0]):\n",
    "        xk = xk_1 + (vk_1 * delta_T)\n",
    "        vk = vk_1\n",
    "\n",
    "        rk = z[i] - xk #residual\n",
    "\n",
    "        xk += alpha * rk\n",
    "        vk += (beta * rk) / delta_T\n",
    "\n",
    "        xk_1 = xk\n",
    "        vk_1 = vk\n",
    "\n",
    "        arr[i] = xk\n",
    "    return arr"
   ]
  },
  {
   "cell_type": "code",
   "execution_count": 49,
   "metadata": {},
   "outputs": [],
   "source": [
    "def KalmanFilter():\n",
    "    '''\n",
    "    z = [0.93, 1.44, 2.34, 4.01, 5.66, 6.01, 6.22, 7.31, 8.01, 8.22] #position\n",
    "    x_init = 1\n",
    "    A = 1 #what does this imply about object position\n",
    "    Q = 0.1\n",
    "    H = 1 #mapping from prediction space to observation space\n",
    "    R = 0.1\n",
    "    P_init = 1 \n",
    "    '''\n",
    "    arr = np.zeros((10))\n",
    "\n",
    "    Pk_1 = P_init\n",
    "    xk_1 = x_init\n",
    "\n",
    "    for i in range(arr.shape[0]):\n",
    "        #predict\n",
    "        xk = A * xk_1\n",
    "        Pk = A*Pk_1*A + Q\n",
    "\n",
    "        #update/correction\n",
    "        K = Pk * H / (H*Pk*H + R)\n",
    "        xk = xk + K * (z[i] - H * xk)\n",
    "        Pk = (1 - K * H)*Pk\n",
    "        \n",
    "        xk_1 = xk\n",
    "        Pk_1 = Pk\n",
    "\n",
    "        arr[i] = xk\n",
    "        \n",
    "    return arr"
   ]
  },
  {
   "cell_type": "code",
   "execution_count": 54,
   "metadata": {},
   "outputs": [
    {
     "name": "stdout",
     "output_type": "stream",
     "text": [
      "kalman:  [0.93583333 1.26714286 1.93623656 3.21959016 4.72813772 5.5203945\n",
      " 5.95277626 6.79158716 7.54460777 7.96202313]\n",
      "measurement:  [0.93, 1.44, 2.34, 4.01, 5.66, 6.01, 6.22, 7.31, 8.01, 8.22]\n"
     ]
    }
   ],
   "source": [
    "out_arr = AlphaBetaFilter()\n",
    "#print(\"alpha beta: \", out_arr)\n",
    "kal_out_arr = KalmanFilter()\n",
    "print(\"kalman: \", kal_out_arr)\n",
    "print(\"measurement: \", z)"
   ]
  },
  {
   "cell_type": "code",
   "execution_count": null,
   "metadata": {},
   "outputs": [],
   "source": []
  }
 ],
 "metadata": {
  "kernelspec": {
   "display_name": "Python 3",
   "language": "python",
   "name": "python3"
  },
  "language_info": {
   "codemirror_mode": {
    "name": "ipython",
    "version": 3
   },
   "file_extension": ".py",
   "mimetype": "text/x-python",
   "name": "python",
   "nbconvert_exporter": "python",
   "pygments_lexer": "ipython3",
   "version": "3.9.0"
  }
 },
 "nbformat": 4,
 "nbformat_minor": 4
}
